{
  "cells": [
    {
      "cell_type": "markdown",
      "source": [
        "# Série - Receitas para Ciência de Dados \n",
        "## Episódio 1 - Básico do Python\n",
        "### Introdução\n",
        "> ** Por que fazer isso? **\n",
        "A razão desta série bilingue de _gists_ é ajudar pessoas que vêm da biologia ou da ecologia a nadar e mergulhar na alfabetização em Ciência de Dados. Para esta tarefa optei por usar python. Existem muitos cursos e tutoriais para aprender python e Data Science, como os das pessoas do [carpentries.org] (https://carpentries.org/) que fornecem excelentes lições de ciência de dados para trabalhar com ecologia, genômica, ciências sociais, geoespacial e outros. Como o [Python for ecologists] (https://mesfind.github.io/python-ecology-lesson/). Eu recomendo seus cursos e lições. E no tempo em que esse material se tornar mais maduro (obter feedbacks) e completo, vou tentar contribuir com essa série para eles. Esta série é um material complementar para os alunos da ciência de dados.\n",
        "\n",
        "### Meta\n",
        "Fornecer ao aluno as habilidades necessárias para extrair, manipular, analisar e visualizar dados públicos usando a API do repositório (REST, GraphQL, FALCOR. GRPC)\n",
        "\n",
        "### Como usar este material\n",
        "Todo este material "
      ],
      "metadata": {}
    },
    {
      "cell_type": "markdown",
      "source": [],
      "metadata": {}
    }
  ],
  "metadata": {
    "kernel_info": {
      "name": "python3"
    },
    "language_info": {
      "name": "python",
      "version": "3.6.8",
      "mimetype": "text/x-python",
      "codemirror_mode": {
        "name": "ipython",
        "version": 3
      },
      "pygments_lexer": "ipython3",
      "nbconvert_exporter": "python",
      "file_extension": ".py"
    },
    "kernelspec": {
      "name": "python3",
      "language": "python",
      "display_name": "Python 3"
    },
    "nteract": {
      "version": "0.14.4"
    }
  },
  "nbformat": 4,
  "nbformat_minor": 0
}