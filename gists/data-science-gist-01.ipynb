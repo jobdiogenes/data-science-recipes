{
  "cells": [
    {
      "cell_type": "markdown",
      "source": [
        "# Data Science Recipes - Series \n",
        "## Episode 1 - Python Basics\n",
        "### Introduction\n",
        "> **Why doing this?**\n",
        "The reason of this bilangual series of gists are to help people that come from biology or ecology to help then to swimming and dive in Data Science literacy. To this task I choosed to use python. There are many courses and tutorials to learn python anda Data Science, like from the people of [carpentries.org](https://carpentries.org/) which provide great data science lessons to work with ecology, genomics, social science, geospacial and others. Like the [Python for ecologists](https://mesfind.github.io/python-ecology-lesson/). I highly recommend their courses and lessons. And in the time when this material become more mature (get feedbacks) and complete, I will try to contribute this series to them. This series are a complement material to learners of data science. \n",
        "\n",
        "### Goal\n",
        "Provide the learner with the skills needed to extract, handle, make analysis and visualization of public data using the repository API (REST, GraphQL, FALCOR. gRPC)\n"
      ],
      "metadata": {}
    },
    {
      "cell_type": "markdown",
      "source": [],
      "metadata": {}
    },
    {
      "cell_type": "markdown",
      "source": [],
      "metadata": {}
    }
  ],
  "metadata": {
    "kernel_info": {
      "name": "python3"
    },
    "language_info": {
      "name": "python",
      "version": "3.6.8",
      "mimetype": "text/x-python",
      "codemirror_mode": {
        "name": "ipython",
        "version": 3
      },
      "pygments_lexer": "ipython3",
      "nbconvert_exporter": "python",
      "file_extension": ".py"
    },
    "kernelspec": {
      "name": "python3",
      "language": "python",
      "display_name": "Python 3"
    },
    "nteract": {
      "version": "0.14.4"
    }
  },
  "nbformat": 4,
  "nbformat_minor": 0
}